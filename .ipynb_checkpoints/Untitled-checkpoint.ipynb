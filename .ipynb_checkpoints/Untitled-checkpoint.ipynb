{
 "cells": [
  {
   "cell_type": "code",
   "execution_count": 2,
   "id": "a7bf0d86",
   "metadata": {},
   "outputs": [],
   "source": [
    "import shapefile"
   ]
  },
  {
   "cell_type": "code",
   "execution_count": 3,
   "id": "bc89a73b",
   "metadata": {},
   "outputs": [],
   "source": [
    "shp_path_node = \"./node_data/MOCT_NODE.shp\"\n",
    "sf_node = shapefile.Reader(shp_path_node)"
   ]
  },
  {
   "cell_type": "code",
   "execution_count": 4,
   "id": "322b554e",
   "metadata": {},
   "outputs": [
    {
     "ename": "UnicodeDecodeError",
     "evalue": "'utf-8' codec can't decode byte 0xb0 in position 0: invalid start byte",
     "output_type": "error",
     "traceback": [
      "\u001b[0;31m---------------------------------------------------------------------------\u001b[0m",
      "\u001b[0;31mUnicodeDecodeError\u001b[0m                        Traceback (most recent call last)",
      "Cell \u001b[0;32mIn[4], line 1\u001b[0m\n\u001b[0;32m----> 1\u001b[0m \u001b[43msf_node\u001b[49m\u001b[38;5;241;43m.\u001b[39;49m\u001b[43mrecords\u001b[49m\u001b[43m(\u001b[49m\u001b[43m)\u001b[49m\n",
      "File \u001b[0;32m~/anaconda3/envs/baedal/lib/python3.11/site-packages/shapefile.py:1716\u001b[0m, in \u001b[0;36mReader.records\u001b[0;34m(self, fields)\u001b[0m\n\u001b[1;32m   1714\u001b[0m fieldTuples,recLookup,recStruct \u001b[38;5;241m=\u001b[39m \u001b[38;5;28mself\u001b[39m\u001b[38;5;241m.\u001b[39m__recordFields(fields)\n\u001b[1;32m   1715\u001b[0m \u001b[38;5;28;01mfor\u001b[39;00m i \u001b[38;5;129;01min\u001b[39;00m \u001b[38;5;28mrange\u001b[39m(\u001b[38;5;28mself\u001b[39m\u001b[38;5;241m.\u001b[39mnumRecords):\n\u001b[0;32m-> 1716\u001b[0m     r \u001b[38;5;241m=\u001b[39m \u001b[38;5;28;43mself\u001b[39;49m\u001b[38;5;241;43m.\u001b[39;49m\u001b[43m__record\u001b[49m\u001b[43m(\u001b[49m\u001b[43moid\u001b[49m\u001b[38;5;241;43m=\u001b[39;49m\u001b[43mi\u001b[49m\u001b[43m,\u001b[49m\u001b[43m \u001b[49m\u001b[43mfieldTuples\u001b[49m\u001b[38;5;241;43m=\u001b[39;49m\u001b[43mfieldTuples\u001b[49m\u001b[43m,\u001b[49m\u001b[43m \u001b[49m\u001b[43mrecLookup\u001b[49m\u001b[38;5;241;43m=\u001b[39;49m\u001b[43mrecLookup\u001b[49m\u001b[43m,\u001b[49m\u001b[43m \u001b[49m\u001b[43mrecStruct\u001b[49m\u001b[38;5;241;43m=\u001b[39;49m\u001b[43mrecStruct\u001b[49m\u001b[43m)\u001b[49m\n\u001b[1;32m   1717\u001b[0m     \u001b[38;5;28;01mif\u001b[39;00m r:\n\u001b[1;32m   1718\u001b[0m         records\u001b[38;5;241m.\u001b[39mappend(r)\n",
      "File \u001b[0;32m~/anaconda3/envs/baedal/lib/python3.11/site-packages/shapefile.py:1683\u001b[0m, in \u001b[0;36mReader.__record\u001b[0;34m(self, fieldTuples, recLookup, recStruct, oid)\u001b[0m\n\u001b[1;32m   1680\u001b[0m             value \u001b[38;5;241m=\u001b[39m \u001b[38;5;28;01mNone\u001b[39;00m \u001b[38;5;66;03m# unknown value is set to missing\u001b[39;00m\n\u001b[1;32m   1681\u001b[0m \u001b[38;5;28;01melse\u001b[39;00m:\n\u001b[1;32m   1682\u001b[0m     \u001b[38;5;66;03m# anything else is forced to string/unicode\u001b[39;00m\n\u001b[0;32m-> 1683\u001b[0m     value \u001b[38;5;241m=\u001b[39m \u001b[43mu\u001b[49m\u001b[43m(\u001b[49m\u001b[43mvalue\u001b[49m\u001b[43m,\u001b[49m\u001b[43m \u001b[49m\u001b[38;5;28;43mself\u001b[39;49m\u001b[38;5;241;43m.\u001b[39;49m\u001b[43mencoding\u001b[49m\u001b[43m,\u001b[49m\u001b[43m \u001b[49m\u001b[38;5;28;43mself\u001b[39;49m\u001b[38;5;241;43m.\u001b[39;49m\u001b[43mencodingErrors\u001b[49m\u001b[43m)\u001b[49m\n\u001b[1;32m   1684\u001b[0m     value \u001b[38;5;241m=\u001b[39m value\u001b[38;5;241m.\u001b[39mstrip()\u001b[38;5;241m.\u001b[39mrstrip(\u001b[38;5;124m'\u001b[39m\u001b[38;5;130;01m\\x00\u001b[39;00m\u001b[38;5;124m'\u001b[39m) \u001b[38;5;66;03m# remove null-padding at end of strings\u001b[39;00m\n\u001b[1;32m   1685\u001b[0m record\u001b[38;5;241m.\u001b[39mappend(value)\n",
      "File \u001b[0;32m~/anaconda3/envs/baedal/lib/python3.11/site-packages/shapefile.py:120\u001b[0m, in \u001b[0;36mu\u001b[0;34m(v, encoding, encodingErrors)\u001b[0m\n\u001b[1;32m    117\u001b[0m \u001b[38;5;28;01mdef\u001b[39;00m \u001b[38;5;21mu\u001b[39m(v, encoding\u001b[38;5;241m=\u001b[39m\u001b[38;5;124m'\u001b[39m\u001b[38;5;124mutf-8\u001b[39m\u001b[38;5;124m'\u001b[39m, encodingErrors\u001b[38;5;241m=\u001b[39m\u001b[38;5;124m'\u001b[39m\u001b[38;5;124mstrict\u001b[39m\u001b[38;5;124m'\u001b[39m):\n\u001b[1;32m    118\u001b[0m     \u001b[38;5;28;01mif\u001b[39;00m \u001b[38;5;28misinstance\u001b[39m(v, \u001b[38;5;28mbytes\u001b[39m):\n\u001b[1;32m    119\u001b[0m         \u001b[38;5;66;03m# For python 3 decode bytes to str.\u001b[39;00m\n\u001b[0;32m--> 120\u001b[0m         \u001b[38;5;28;01mreturn\u001b[39;00m v\u001b[38;5;241m.\u001b[39mdecode(encoding, encodingErrors)\n\u001b[1;32m    121\u001b[0m     \u001b[38;5;28;01melif\u001b[39;00m \u001b[38;5;28misinstance\u001b[39m(v, \u001b[38;5;28mstr\u001b[39m):\n\u001b[1;32m    122\u001b[0m         \u001b[38;5;66;03m# Already str.\u001b[39;00m\n\u001b[1;32m    123\u001b[0m         \u001b[38;5;28;01mreturn\u001b[39;00m v\n",
      "\u001b[0;31mUnicodeDecodeError\u001b[0m: 'utf-8' codec can't decode byte 0xb0 in position 0: invalid start byte"
     ]
    }
   ],
   "source": [
    "sf_node.records()"
   ]
  },
  {
   "cell_type": "code",
   "execution_count": 5,
   "id": "82612af5",
   "metadata": {},
   "outputs": [
    {
     "data": {
      "text/plain": [
       "[('DeletionFlag', 'C', 1, 0),\n",
       " ['NODE_ID', 'C', 10, 0],\n",
       " ['NODE_TYPE', 'C', 3, 0],\n",
       " ['NODE_NAME', 'C', 30, 0],\n",
       " ['TURN_P', 'C', 1, 0],\n",
       " ['REMARK', 'C', 30, 0]]"
      ]
     },
     "execution_count": 5,
     "metadata": {},
     "output_type": "execute_result"
    }
   ],
   "source": [
    "sf_node.fields"
   ]
  },
  {
   "cell_type": "code",
   "execution_count": 7,
   "id": "a5b1fced",
   "metadata": {},
   "outputs": [],
   "source": [
    "!cd ../"
   ]
  },
  {
   "cell_type": "code",
   "execution_count": 8,
   "id": "879f06e5",
   "metadata": {},
   "outputs": [
    {
     "name": "stdout",
     "output_type": "stream",
     "text": [
      "/Users/mj/work/baedal/road_data\r\n"
     ]
    }
   ],
   "source": [
    "!pwd"
   ]
  },
  {
   "cell_type": "code",
   "execution_count": 10,
   "id": "5f03cdce",
   "metadata": {},
   "outputs": [],
   "source": [
    "!cd ./../"
   ]
  },
  {
   "cell_type": "code",
   "execution_count": 11,
   "id": "7e3f6108",
   "metadata": {},
   "outputs": [
    {
     "name": "stdout",
     "output_type": "stream",
     "text": [
      "/Users/mj/work/baedal/road_data\r\n"
     ]
    }
   ],
   "source": [
    "!pwd"
   ]
  },
  {
   "cell_type": "code",
   "execution_count": null,
   "id": "7b1b0bcb",
   "metadata": {},
   "outputs": [],
   "source": []
  }
 ],
 "metadata": {
  "kernelspec": {
   "display_name": "Python 3 (ipykernel)",
   "language": "python",
   "name": "python3"
  },
  "language_info": {
   "codemirror_mode": {
    "name": "ipython",
    "version": 3
   },
   "file_extension": ".py",
   "mimetype": "text/x-python",
   "name": "python",
   "nbconvert_exporter": "python",
   "pygments_lexer": "ipython3",
   "version": "3.11.3"
  }
 },
 "nbformat": 4,
 "nbformat_minor": 5
}
